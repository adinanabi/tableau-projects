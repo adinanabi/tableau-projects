{
 "cells": [
  {
   "cell_type": "code",
   "execution_count": 1,
   "id": "b44ca674",
   "metadata": {
    "scrolled": true
   },
   "outputs": [
    {
     "name": "stdout",
     "output_type": "stream",
     "text": [
      "<class 'pandas.core.frame.DataFrame'>\n",
      "RangeIndex: 6234 entries, 0 to 6233\n",
      "Data columns (total 12 columns):\n",
      " #   Column        Non-Null Count  Dtype \n",
      "---  ------        --------------  ----- \n",
      " 0   show_id       6234 non-null   int64 \n",
      " 1   type          6234 non-null   object\n",
      " 2   title         6234 non-null   object\n",
      " 3   director      4265 non-null   object\n",
      " 4   cast          5664 non-null   object\n",
      " 5   country       5758 non-null   object\n",
      " 6   date_added    6223 non-null   object\n",
      " 7   release_year  6234 non-null   int64 \n",
      " 8   rating        6224 non-null   object\n",
      " 9   duration      6234 non-null   object\n",
      " 10  listed_in     6234 non-null   object\n",
      " 11  description   6234 non-null   object\n",
      "dtypes: int64(2), object(10)\n",
      "memory usage: 584.6+ KB\n",
      "None\n",
      "            show_id  release_year\n",
      "count  6.234000e+03    6234.00000\n",
      "mean   7.670368e+07    2013.35932\n",
      "std    1.094296e+07       8.81162\n",
      "min    2.477470e+05    1925.00000\n",
      "25%    8.003580e+07    2013.00000\n",
      "50%    8.016337e+07    2016.00000\n",
      "75%    8.024489e+07    2018.00000\n",
      "max    8.123573e+07    2020.00000\n"
     ]
    }
   ],
   "source": [
    "import pandas as pd\n",
    "import numpy as np\n",
    "\n",
    "df = pd.read_csv('netflix_titles.csv')\n",
    "print(df.info())\n",
    "print(df.describe())"
   ]
  },
  {
   "cell_type": "code",
   "execution_count": 2,
   "id": "dbb53150",
   "metadata": {},
   "outputs": [
    {
     "name": "stdout",
     "output_type": "stream",
     "text": [
      "show_id            0\n",
      "type               0\n",
      "title              0\n",
      "director        1969\n",
      "cast             570\n",
      "country          476\n",
      "date_added        11\n",
      "release_year       0\n",
      "rating            10\n",
      "duration           0\n",
      "listed_in          0\n",
      "description        0\n",
      "dtype: int64\n"
     ]
    }
   ],
   "source": [
    "print(df.isnull().sum())"
   ]
  },
  {
   "cell_type": "code",
   "execution_count": 3,
   "id": "99d77fb3",
   "metadata": {},
   "outputs": [],
   "source": [
    "df['original_id'] = df.index   # adding a unique identifier"
   ]
  },
  {
   "cell_type": "code",
   "execution_count": 4,
   "id": "5f4a886b",
   "metadata": {},
   "outputs": [],
   "source": [
    "df['director'].fillna('Unknown', inplace=True)\n",
    "df['cast'].fillna('Unknown', inplace=True)\n",
    "df['country'].fillna('Unknown', inplace=True)\n",
    "df['listed_in'].fillna('Unknown', inplace=True)\n",
    "df['rating'].fillna('Not Rated', inplace=True)"
   ]
  },
  {
   "cell_type": "code",
   "execution_count": 5,
   "id": "902ead9e",
   "metadata": {},
   "outputs": [],
   "source": [
    "df['rating'] = df['rating'].astype('category')   # converting rating to categorical"
   ]
  },
  {
   "cell_type": "code",
   "execution_count": 6,
   "id": "e4452115",
   "metadata": {},
   "outputs": [],
   "source": [
    "# Split 'duration' into numeric value and unit\n",
    "df['duration'] = df['duration'].astype(str)\n",
    "df['duration_value'] = pd.to_numeric(df['duration'].str.extract('(\\d+)').iloc[:, 0], errors='coerce').astype('Int64')\n",
    "df['duration_unit'] = df['duration'].str.extract('(\\D+)').iloc[:, 0].str.strip()"
   ]
  },
  {
   "cell_type": "code",
   "execution_count": 7,
   "id": "16cc2b89",
   "metadata": {},
   "outputs": [],
   "source": [
    "multi_value_cols = ['country', 'listed_in']       # handling multi-value columns\n",
    "for col in multi_value_cols:\n",
    "    df[col] = df[col].str.split(', ')\n",
    "    \n",
    "df_exploded = df.explode('country').explode('listed_in').reset_index(drop=True)\n",
    "\n",
    "# Calculating split factor\n",
    "df_exploded['split_factor'] = 1 / df_exploded.groupby('original_id')['original_id'].transform('count')   \n",
    "\n",
    "# Keep director and cast as lists\n",
    "# df_exploded['director'] = df_exploded['director'].str.split(', ')\n",
    "# df_exploded['cast'] = df_exploded['cast'].str.split(', ')"
   ]
  },
  {
   "cell_type": "code",
   "execution_count": 14,
   "id": "ded39893",
   "metadata": {},
   "outputs": [
    {
     "name": "stdout",
     "output_type": "stream",
     "text": [
      "    show_id     type                                    title  \\\n",
      "0  81145628    Movie  Norm of the North: King Sized Adventure   \n",
      "1  80117401    Movie               Jandino: Whatever it Takes   \n",
      "2  70234439  TV Show                       Transformers Prime   \n",
      "3  80058654  TV Show         Transformers: Robots in Disguise   \n",
      "4  80125979    Movie                             #realityhigh   \n",
      "\n",
      "                   director  \\\n",
      "0  Richard Finn, Tim Maltby   \n",
      "1                   Unknown   \n",
      "2                   Unknown   \n",
      "3                   Unknown   \n",
      "4          Fernando Lebrija   \n",
      "\n",
      "                                                cast  \\\n",
      "0  Alan Marriott, Andrew Toth, Brian Dobson, Cole...   \n",
      "1                                   Jandino Asporaat   \n",
      "2  Peter Cullen, Sumalee Montano, Frank Welker, J...   \n",
      "3  Will Friedle, Darren Criss, Constance Zimmer, ...   \n",
      "4  Nesta Cooper, Kate Walsh, John Michael Higgins...   \n",
      "\n",
      "                                    country         date_added  release_year  \\\n",
      "0  United States, India, South Korea, China  September 9, 2019          2019   \n",
      "1                            United Kingdom  September 9, 2016          2016   \n",
      "2                             United States  September 8, 2018          2013   \n",
      "3                             United States  September 8, 2018          2016   \n",
      "4                             United States  September 8, 2017          2017   \n",
      "\n",
      "     rating  duration                           listed_in  \\\n",
      "0     TV-PG    90 min  Children & Family Movies, Comedies   \n",
      "1     TV-MA    94 min                     Stand-Up Comedy   \n",
      "2  TV-Y7-FV  1 Season                            Kids' TV   \n",
      "3     TV-Y7  1 Season                            Kids' TV   \n",
      "4     TV-14    99 min                            Comedies   \n",
      "\n",
      "                                         description  duration_value  \\\n",
      "0  Before planning an awesome wedding for his gra...              90   \n",
      "1  Jandino Asporaat riffs on the challenges of ra...              94   \n",
      "2  With the help of three human allies, the Autob...               1   \n",
      "3  When a prison ship crash unleashes hundreds of...               1   \n",
      "4  When nerdy high schooler Dani finally attracts...              99   \n",
      "\n",
      "  duration_unit  \n",
      "0           min  \n",
      "1           min  \n",
      "2        Season  \n",
      "3        Season  \n",
      "4           min  \n"
     ]
    }
   ],
   "source": [
    "print(df.head(5))"
   ]
  },
  {
   "cell_type": "code",
   "execution_count": 15,
   "id": "f458c3cf",
   "metadata": {},
   "outputs": [
    {
     "name": "stdout",
     "output_type": "stream",
     "text": [
      "<class 'pandas.core.frame.DataFrame'>\n",
      "RangeIndex: 6234 entries, 0 to 6233\n",
      "Data columns (total 14 columns):\n",
      " #   Column          Non-Null Count  Dtype   \n",
      "---  ------          --------------  -----   \n",
      " 0   show_id         6234 non-null   int64   \n",
      " 1   type            6234 non-null   object  \n",
      " 2   title           6234 non-null   object  \n",
      " 3   director        6234 non-null   object  \n",
      " 4   cast            6234 non-null   object  \n",
      " 5   country         5758 non-null   object  \n",
      " 6   date_added      6223 non-null   object  \n",
      " 7   release_year    6234 non-null   int64   \n",
      " 8   rating          6234 non-null   category\n",
      " 9   duration        6234 non-null   object  \n",
      " 10  listed_in       6234 non-null   object  \n",
      " 11  description     6234 non-null   object  \n",
      " 12  duration_value  6234 non-null   int64   \n",
      " 13  duration_unit   6234 non-null   object  \n",
      "dtypes: category(1), int64(3), object(10)\n",
      "memory usage: 640.0+ KB\n",
      "None\n"
     ]
    }
   ],
   "source": [
    "print(df.info())"
   ]
  },
  {
   "cell_type": "code",
   "execution_count": 16,
   "id": "49a7ff79",
   "metadata": {},
   "outputs": [],
   "source": [
    "# Export the cleaned dataset\n",
    "df.to_csv('cleaned_netflix_dataset.csv', index=False)"
   ]
  },
  {
   "cell_type": "code",
   "execution_count": null,
   "id": "e414936d",
   "metadata": {},
   "outputs": [],
   "source": []
  }
 ],
 "metadata": {
  "kernelspec": {
   "display_name": "Python 3 (ipykernel)",
   "language": "python",
   "name": "python3"
  },
  "language_info": {
   "codemirror_mode": {
    "name": "ipython",
    "version": 3
   },
   "file_extension": ".py",
   "mimetype": "text/x-python",
   "name": "python",
   "nbconvert_exporter": "python",
   "pygments_lexer": "ipython3",
   "version": "3.11.5"
  }
 },
 "nbformat": 4,
 "nbformat_minor": 5
}
